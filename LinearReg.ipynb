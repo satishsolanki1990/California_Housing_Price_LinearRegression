{
 "cells": [
  {
   "cell_type": "code",
   "execution_count": 55,
   "metadata": {},
   "outputs": [],
   "source": [
    "import numpy as np\n",
    "import pandas as pd\n",
    "import matplotlib.pyplot as plt\n",
    "from sklearn.linear_model import LinearRegression\n",
    "import time\n"
   ]
  },
  {
   "cell_type": "code",
   "execution_count": 56,
   "metadata": {},
   "outputs": [],
   "source": [
    "# read the data\n",
    "df=pd.read_csv('housing.csv')\n"
   ]
  },
  {
   "cell_type": "markdown",
   "metadata": {},
   "source": [
    "## Preprocessing"
   ]
  },
  {
   "cell_type": "code",
   "execution_count": 57,
   "metadata": {},
   "outputs": [
    {
     "name": "stdout",
     "output_type": "stream",
     "text": [
      "name of columns =  Index(['longitude', 'latitude', 'housing_median_age', 'total_rooms',\n",
      "       'total_bedrooms', 'population', 'households', 'median_income',\n",
      "       'median_house_value', 'ocean_proximity'],\n",
      "      dtype='object')\n",
      "overall shape of dataframe  (20640, 10)\n",
      "top 5 rows of dataset     longitude  latitude  housing_median_age  total_rooms  total_bedrooms  \\\n",
      "0    -122.23     37.88                41.0        880.0           129.0   \n",
      "1    -122.22     37.86                21.0       7099.0          1106.0   \n",
      "2    -122.24     37.85                52.0       1467.0           190.0   \n",
      "3    -122.25     37.85                52.0       1274.0           235.0   \n",
      "4    -122.25     37.85                52.0       1627.0           280.0   \n",
      "\n",
      "   population  households  median_income  median_house_value ocean_proximity  \n",
      "0       322.0       126.0         8.3252            452600.0        NEAR BAY  \n",
      "1      2401.0      1138.0         8.3014            358500.0        NEAR BAY  \n",
      "2       496.0       177.0         7.2574            352100.0        NEAR BAY  \n",
      "3       558.0       219.0         5.6431            341300.0        NEAR BAY  \n",
      "4       565.0       259.0         3.8462            342200.0        NEAR BAY  \n"
     ]
    }
   ],
   "source": [
    "# # Preprocessing:\n",
    "print('name of columns = ',df.columns)\n",
    "print('overall shape of dataframe ',df.shape)\n",
    "print('top 5 rows of dataset ',df.head(n=5))\n"
   ]
  },
  {
   "cell_type": "markdown",
   "metadata": {},
   "source": [
    "### Data Summury :\n",
    "    There are 10 coloums. Target = \"mean_house_value\". \n",
    "    Total Examples = 20640 (before cleaning, removing NAN and outliers)"
   ]
  },
  {
   "cell_type": "code",
   "execution_count": 58,
   "metadata": {},
   "outputs": [
    {
     "data": {
      "text/plain": [
       "array([[<matplotlib.axes._subplots.AxesSubplot object at 0x12a727ad0>,\n",
       "        <matplotlib.axes._subplots.AxesSubplot object at 0x12a624e90>,\n",
       "        <matplotlib.axes._subplots.AxesSubplot object at 0x12ab31910>],\n",
       "       [<matplotlib.axes._subplots.AxesSubplot object at 0x12b3cc3d0>,\n",
       "        <matplotlib.axes._subplots.AxesSubplot object at 0x12b36c9d0>,\n",
       "        <matplotlib.axes._subplots.AxesSubplot object at 0x12b4ac1d0>],\n",
       "       [<matplotlib.axes._subplots.AxesSubplot object at 0x12b4e28d0>,\n",
       "        <matplotlib.axes._subplots.AxesSubplot object at 0x12b519dd0>,\n",
       "        <matplotlib.axes._subplots.AxesSubplot object at 0x12b519e10>]],\n",
       "      dtype=object)"
      ]
     },
     "execution_count": 58,
     "metadata": {},
     "output_type": "execute_result"
    },
    {
     "data": {
      "image/png": "[encoded data removed]",
      "text/plain": [
       "<Figure size 720x576 with 9 Axes>"
      ]
     },
     "metadata": {
      "needs_background": "light"
     },
     "output_type": "display_data"
    }
   ],
   "source": [
    "# data visualization\n",
    "df.hist(figsize=[10,8])"
   ]
  },
  {
   "cell_type": "code",
   "execution_count": 59,
   "metadata": {},
   "outputs": [
    {
     "data": {
      "text/html": [
       "<div>\n",
       "<style scoped>\n",
       "    .dataframe tbody tr th:only-of-type {\n",
       "        vertical-align: middle;\n",
       "    }\n",
       "\n",
       "    .dataframe tbody tr th {\n",
       "        vertical-align: top;\n",
       "    }\n",
       "\n",
       "    .dataframe thead th {\n",
       "        text-align: right;\n",
       "    }\n",
       "</style>\n",
       "<table border=\"1\" class=\"dataframe\">\n",
       "  <thead>\n",
       "    <tr style=\"text-align: right;\">\n",
       "      <th></th>\n",
       "      <th>longitude</th>\n",
       "      <th>latitude</th>\n",
       "      <th>housing_median_age</th>\n",
       "      <th>total_rooms</th>\n",
       "      <th>total_bedrooms</th>\n",
       "      <th>population</th>\n",
       "      <th>households</th>\n",
       "      <th>median_income</th>\n",
       "      <th>median_house_value</th>\n",
       "    </tr>\n",
       "  </thead>\n",
       "  <tbody>\n",
       "    <tr>\n",
       "      <th>count</th>\n",
       "      <td>20640.000000</td>\n",
       "      <td>20640.000000</td>\n",
       "      <td>20640.000000</td>\n",
       "      <td>20640.000000</td>\n",
       "      <td>20433.000000</td>\n",
       "      <td>20640.000000</td>\n",
       "      <td>20640.000000</td>\n",
       "      <td>20640.000000</td>\n",
       "      <td>20640.000000</td>\n",
       "    </tr>\n",
       "    <tr>\n",
       "      <th>mean</th>\n",
       "      <td>-119.569704</td>\n",
       "      <td>35.631861</td>\n",
       "      <td>28.639486</td>\n",
       "      <td>2635.763081</td>\n",
       "      <td>537.870553</td>\n",
       "      <td>1425.476744</td>\n",
       "      <td>499.539680</td>\n",
       "      <td>3.870671</td>\n",
       "      <td>206855.816909</td>\n",
       "    </tr>\n",
       "    <tr>\n",
       "      <th>std</th>\n",
       "      <td>2.003532</td>\n",
       "      <td>2.135952</td>\n",
       "      <td>12.585558</td>\n",
       "      <td>2181.615252</td>\n",
       "      <td>421.385070</td>\n",
       "      <td>1132.462122</td>\n",
       "      <td>382.329753</td>\n",
       "      <td>1.899822</td>\n",
       "      <td>115395.615874</td>\n",
       "    </tr>\n",
       "    <tr>\n",
       "      <th>min</th>\n",
       "      <td>-124.350000</td>\n",
       "      <td>32.540000</td>\n",
       "      <td>1.000000</td>\n",
       "      <td>2.000000</td>\n",
       "      <td>1.000000</td>\n",
       "      <td>3.000000</td>\n",
       "      <td>1.000000</td>\n",
       "      <td>0.499900</td>\n",
       "      <td>14999.000000</td>\n",
       "    </tr>\n",
       "    <tr>\n",
       "      <th>25%</th>\n",
       "      <td>-121.800000</td>\n",
       "      <td>33.930000</td>\n",
       "      <td>18.000000</td>\n",
       "      <td>1447.750000</td>\n",
       "      <td>296.000000</td>\n",
       "      <td>787.000000</td>\n",
       "      <td>280.000000</td>\n",
       "      <td>2.563400</td>\n",
       "      <td>119600.000000</td>\n",
       "    </tr>\n",
       "    <tr>\n",
       "      <th>50%</th>\n",
       "      <td>-118.490000</td>\n",
       "      <td>34.260000</td>\n",
       "      <td>29.000000</td>\n",
       "      <td>2127.000000</td>\n",
       "      <td>435.000000</td>\n",
       "      <td>1166.000000</td>\n",
       "      <td>409.000000</td>\n",
       "      <td>3.534800</td>\n",
       "      <td>179700.000000</td>\n",
       "    </tr>\n",
       "    <tr>\n",
       "      <th>75%</th>\n",
       "      <td>-118.010000</td>\n",
       "      <td>37.710000</td>\n",
       "      <td>37.000000</td>\n",
       "      <td>3148.000000</td>\n",
       "      <td>647.000000</td>\n",
       "      <td>1725.000000</td>\n",
       "      <td>605.000000</td>\n",
       "      <td>4.743250</td>\n",
       "      <td>264725.000000</td>\n",
       "    </tr>\n",
       "    <tr>\n",
       "      <th>max</th>\n",
       "      <td>-114.310000</td>\n",
       "      <td>41.950000</td>\n",
       "      <td>52.000000</td>\n",
       "      <td>39320.000000</td>\n",
       "      <td>6445.000000</td>\n",
       "      <td>35682.000000</td>\n",
       "      <td>6082.000000</td>\n",
       "      <td>15.000100</td>\n",
       "      <td>500001.000000</td>\n",
       "    </tr>\n",
       "  </tbody>\n",
       "</table>\n",
       "</div>"
      ],
      "text/plain": [
       "          longitude      latitude  housing_median_age   total_rooms  \\\n",
       "count  20640.000000  20640.000000        20640.000000  20640.000000   \n",
       "mean    -119.569704     35.631861           28.639486   2635.763081   \n",
       "std        2.003532      2.135952           12.585558   2181.615252   \n",
       "min     -124.350000     32.540000            1.000000      2.000000   \n",
       "25%     -121.800000     33.930000           18.000000   1447.750000   \n",
       "50%     -118.490000     34.260000           29.000000   2127.000000   \n",
       "75%     -118.010000     37.710000           37.000000   3148.000000   \n",
       "max     -114.310000     41.950000           52.000000  39320.000000   \n",
       "\n",
       "       total_bedrooms    population    households  median_income  \\\n",
       "count    20433.000000  20640.000000  20640.000000   20640.000000   \n",
       "mean       537.870553   1425.476744    499.539680       3.870671   \n",
       "std        421.385070   1132.462122    382.329753       1.899822   \n",
       "min          1.000000      3.000000      1.000000       0.499900   \n",
       "25%        296.000000    787.000000    280.000000       2.563400   \n",
       "50%        435.000000   1166.000000    409.000000       3.534800   \n",
       "75%        647.000000   1725.000000    605.000000       4.743250   \n",
       "max       6445.000000  35682.000000   6082.000000      15.000100   \n",
       "\n",
       "       median_house_value  \n",
       "count        20640.000000  \n",
       "mean        206855.816909  \n",
       "std         115395.615874  \n",
       "min          14999.000000  \n",
       "25%         119600.000000  \n",
       "50%         179700.000000  \n",
       "75%         264725.000000  \n",
       "max         500001.000000  "
      ]
     },
     "execution_count": 59,
     "metadata": {},
     "output_type": "execute_result"
    }
   ],
   "source": [
    "df.describe()"
   ]
  },
  {
   "cell_type": "code",
   "execution_count": 60,
   "metadata": {},
   "outputs": [
    {
     "data": {
      "text/plain": [
       "longitude                -0.033572\n",
       "latitude                  0.128040\n",
       "housing_median_age        5.530695\n",
       "total_rooms            1805.718101\n",
       "total_bedrooms          330.126601\n",
       "population              899.678274\n",
       "households              292.621479\n",
       "median_income             0.932480\n",
       "median_house_value    64374.057070\n",
       "dtype: float64"
      ]
     },
     "execution_count": 60,
     "metadata": {},
     "output_type": "execute_result"
    }
   ],
   "source": [
    "# coefficient of variance:\n",
    "cv = (df.var()/df.mean())\n",
    "cv\n"
   ]
  },
  {
   "cell_type": "markdown",
   "metadata": {},
   "source": [
    "### Primary analysis:\n",
    "    1. target has huge variance.\n",
    "    2. Features having outliers: households , population, total_bedrooms, total_rooms\n",
    "\n",
    "### Suggestions:\n",
    "    1. remove outlier from features. "
   ]
  },
  {
   "cell_type": "code",
   "execution_count": 61,
   "metadata": {},
   "outputs": [
    {
     "data": {
      "text/plain": [
       "(19622, 10)"
      ]
     },
     "execution_count": 61,
     "metadata": {},
     "output_type": "execute_result"
    }
   ],
   "source": [
    "# remove outliers\n",
    "df.shape\n",
    "for i in ['households' , 'population', 'total_bedrooms', 'total_rooms']:\n",
    "    df=df[df[i]<df[i].quantile(0.99)]\n",
    "\n",
    "df.shape\n"
   ]
  },
  {
   "cell_type": "code",
   "execution_count": 62,
   "metadata": {},
   "outputs": [
    {
     "data": {
      "text/plain": [
       "longitude                -0.033534\n",
       "latitude                  0.128622\n",
       "housing_median_age        5.280686\n",
       "total_rooms             745.528156\n",
       "total_bedrooms          153.428495\n",
       "population              416.504107\n",
       "households              139.829946\n",
       "median_income             0.931147\n",
       "median_house_value    64855.851914\n",
       "dtype: float64"
      ]
     },
     "execution_count": 62,
     "metadata": {},
     "output_type": "execute_result"
    }
   ],
   "source": [
    "cv=df.var()/df.mean()"
   ]
  },
  {
   "cell_type": "code",
   "execution_count": 63,
   "metadata": {},
   "outputs": [
    {
     "data": {
      "text/plain": [
       "array([[<matplotlib.axes._subplots.AxesSubplot object at 0x12b7e50d0>,\n",
       "        <matplotlib.axes._subplots.AxesSubplot object at 0x12b72c6d0>,\n",
       "        <matplotlib.axes._subplots.AxesSubplot object at 0x12dd177d0>],\n",
       "       [<matplotlib.axes._subplots.AxesSubplot object at 0x12dd54d90>,\n",
       "        <matplotlib.axes._subplots.AxesSubplot object at 0x12de55410>,\n",
       "        <matplotlib.axes._subplots.AxesSubplot object at 0x12de21a90>],\n",
       "       [<matplotlib.axes._subplots.AxesSubplot object at 0x12dd5b1d0>,\n",
       "        <matplotlib.axes._subplots.AxesSubplot object at 0x12b844b50>,\n",
       "        <matplotlib.axes._subplots.AxesSubplot object at 0x12b844b90>]],\n",
       "      dtype=object)"
      ]
     },
     "execution_count": 63,
     "metadata": {},
     "output_type": "execute_result"
    },
    {
     "data": {
      "image/png": "[encoded data removed]",
      "text/plain": [
       "<Figure size 720x576 with 9 Axes>"
      ]
     },
     "metadata": {
      "needs_background": "light"
     },
     "output_type": "display_data"
    }
   ],
   "source": [
    "df.hist(figsize=(10,8))"
   ]
  },
  {
   "cell_type": "markdown",
   "metadata": {},
   "source": [
    "### after outliers are removed\n",
    "    1. Total sample = 19622\n",
    "    2. 'Ocean_proximity' is catagorical and dtype is string. Convert it to numeric "
   ]
  },
  {
   "cell_type": "code",
   "execution_count": 64,
   "metadata": {},
   "outputs": [
    {
     "data": {
      "text/plain": [
       "array(['NEAR BAY', '<1H OCEAN', 'INLAND', 'NEAR OCEAN', 'ISLAND'],\n",
       "      dtype=object)"
      ]
     },
     "execution_count": 64,
     "metadata": {},
     "output_type": "execute_result"
    }
   ],
   "source": [
    "# 'Ocean_proximity'\n",
    "df['ocean_proximity'].unique()"
   ]
  },
  {
   "cell_type": "code",
   "execution_count": 65,
   "metadata": {},
   "outputs": [],
   "source": [
    "# using label encode from scikit learn # one hot encoder\n",
    "from sklearn.preprocessing import LabelEncoder \n",
    "\n",
    "encode=LabelEncoder()"
   ]
  },
  {
   "cell_type": "code",
   "execution_count": 66,
   "metadata": {},
   "outputs": [],
   "source": [
    "# encode 'ocean_proximity'\n",
    "df['ocean_proximity'] = encode.fit_transform(df['ocean_proximity'])"
   ]
  },
  {
   "cell_type": "code",
   "execution_count": 67,
   "metadata": {},
   "outputs": [
    {
     "data": {
      "text/plain": [
       "0    8681\n",
       "1    6180\n",
       "4    2551\n",
       "3    2205\n",
       "2       5\n",
       "Name: ocean_proximity, dtype: int64"
      ]
     },
     "execution_count": 67,
     "metadata": {},
     "output_type": "execute_result"
    }
   ],
   "source": [
    "df['ocean_proximity'].value_counts()"
   ]
  },
  {
   "cell_type": "markdown",
   "metadata": {},
   "source": [
    "### Check covariance among features"
   ]
  },
  {
   "cell_type": "code",
   "execution_count": 147,
   "metadata": {},
   "outputs": [
    {
     "data": {
      "text/plain": [
       "<matplotlib.axes._subplots.AxesSubplot at 0x12e5fe190>"
      ]
     },
     "execution_count": 147,
     "metadata": {},
     "output_type": "execute_result"
    },
    {
     "data": {
      "image/png": "[encoded data removed]",
      "text/plain": [
       "<Figure size 720x720 with 2 Axes>"
      ]
     },
     "metadata": {
      "needs_background": "light"
     },
     "output_type": "display_data"
    }
   ],
   "source": [
    "# heat map\n",
    "import seaborn as sns\n",
    "fig, ax = plt.subplots(figsize=(10,10)) \n",
    "sns.heatmap(df.corr(),annot=True,ax=ax)"
   ]
  },
  {
   "cell_type": "markdown",
   "metadata": {},
   "source": [
    "### NOTE :  \n",
    "Unbalane in catagorical data distribution.\n",
    "\n",
    "heatmap shows that there are correlation between total_rooms,total_bedrooms,households and population. We can drop all and pick only one of them."
   ]
  },
  {
   "cell_type": "code",
   "execution_count": 132,
   "metadata": {},
   "outputs": [],
   "source": [
    "# X and Y\n",
    "X=df.loc[:,df.columns!='median_house_value']\n",
    "features=X.columns\n",
    "X=X.to_numpy()\n",
    "Y=df['median_house_value']\n",
    "# Y=Y.to_numpy()"
   ]
  },
  {
   "cell_type": "code",
   "execution_count": 134,
   "metadata": {},
   "outputs": [
    {
     "data": {
      "text/plain": [
       "<matplotlib.axes._subplots.AxesSubplot at 0x12dc0a710>"
      ]
     },
     "execution_count": 134,
     "metadata": {},
     "output_type": "execute_result"
    },
    {
     "data": {
      "image/png": "[encoded data removed]",
      "text/plain": [
       "<Figure size 432x288 with 1 Axes>"
      ]
     },
     "metadata": {
      "needs_background": "light"
     },
     "output_type": "display_data"
    }
   ],
   "source": [
    "Y.hist()"
   ]
  },
  {
   "cell_type": "code",
   "execution_count": 135,
   "metadata": {},
   "outputs": [
    {
     "data": {
      "text/plain": [
       "<matplotlib.axes._subplots.AxesSubplot at 0x12dc55810>"
      ]
     },
     "execution_count": 135,
     "metadata": {},
     "output_type": "execute_result"
    },
    {
     "data": {
      "image/png": "[encoded data removed]",
      "text/plain": [
       "<Figure size 432x288 with 1 Axes>"
      ]
     },
     "metadata": {
      "needs_background": "light"
     },
     "output_type": "display_data"
    }
   ],
   "source": [
    "Y_log=np.log(Y+eps)\n",
    "Y_log.hist()"
   ]
  },
  {
   "cell_type": "code",
   "execution_count": 138,
   "metadata": {},
   "outputs": [
    {
     "data": {
      "text/plain": [
       "13356805578.834276"
      ]
     },
     "execution_count": 138,
     "metadata": {},
     "output_type": "execute_result"
    }
   ],
   "source": [
    "Y_log.var()"
   ]
  },
  {
   "cell_type": "code",
   "execution_count": 118,
   "metadata": {},
   "outputs": [],
   "source": [
    "# X_train, Y_train, X_test, Y_test\n",
    "from sklearn.model_selection import train_test_split\n",
    "\n",
    "X_train,X_test,Y_train,Y_test = train_test_split(X,Y,test_size=0.25,random_state=1)"
   ]
  },
  {
   "cell_type": "markdown",
   "metadata": {},
   "source": [
    "# Without Normalization"
   ]
  },
  {
   "cell_type": "code",
   "execution_count": 77,
   "metadata": {},
   "outputs": [
    {
     "name": "stdout",
     "output_type": "stream",
     "text": [
      "score on training: 0.650\n",
      "score on test: 0.652\n",
      "[-4.22787365e+04 -4.21565835e+04  1.12166076e+03 -1.37163993e+01\n",
      "  1.91680698e+02 -6.13258516e+01  6.22180253e+01  4.11462472e+04\n",
      " -9.37661766e+02]\n",
      "-3546610.711639609\n"
     ]
    }
   ],
   "source": [
    "# linear regression\n",
    "\n",
    "reg=LinearRegression().fit(X_train,Y_train)\n",
    "print('score on training: {:.3f}'.format(reg.score(X_train,Y_train)))\n",
    "\n",
    "print('score on test: {:.3f}'.format(reg.score(X_test,Y_test))) \n",
    "print(reg.coef_)\n",
    "print(reg.intercept_) "
   ]
  },
  {
   "cell_type": "markdown",
   "metadata": {},
   "source": [
    "# with normalization of input features only"
   ]
  },
  {
   "cell_type": "code",
   "execution_count": 78,
   "metadata": {},
   "outputs": [],
   "source": [
    "# with normalization mean/std \n",
    "from sklearn.preprocessing import StandardScaler\n",
    "\n",
    "scaler=StandardScaler().fit(X_train)\n",
    "X_train = scaler.transform(X_train)\n",
    "X_test=scaler.transform(X_test)"
   ]
  },
  {
   "cell_type": "code",
   "execution_count": 79,
   "metadata": {},
   "outputs": [
    {
     "name": "stdout",
     "output_type": "stream",
     "text": [
      "score on training: 0.650\n",
      "score on test: 0.652\n",
      "[-84709.47175184 -90752.24913207  13900.94052625 -17995.10624358\n",
      "  51871.64779693 -44533.52585649  15537.73957207  77673.2148304\n",
      "  -1334.16965101]\n",
      "205185.5315303189\n"
     ]
    }
   ],
   "source": [
    "# linear regression \n",
    "\n",
    "reg=LinearRegression().fit(X_train,Y_train)\n",
    "print('score on training: {:.3f}'.format(reg.score(X_train,Y_train))) \n",
    "\n",
    "print('score on test: {:.3f}'.format(reg.score(X_test,Y_test))) \n",
    "print(reg.coef_) \n",
    "print(reg.intercept_)"
   ]
  },
  {
   "cell_type": "markdown",
   "metadata": {},
   "source": [
    "# With max-min normalization"
   ]
  },
  {
   "cell_type": "code",
   "execution_count": 93,
   "metadata": {},
   "outputs": [],
   "source": [
    "# max min normalization\n",
    "from sklearn.preprocessing import MinMaxScaler\n",
    "\n",
    "scaler = MinMaxScaler().fit(X_train)\n",
    "X_train = scaler.transform(X_train)\n",
    "X_test = scaler.transform(X_test)"
   ]
  },
  {
   "cell_type": "code",
   "execution_count": 94,
   "metadata": {},
   "outputs": [
    {
     "name": "stdout",
     "output_type": "stream",
     "text": [
      "score on training: 0.650\n",
      "score on test: 0.652\n",
      "[-422364.57769392 -395428.75341884   57204.69881203 -101117.29590093\n",
      "  306305.75565939 -284245.32221461   95504.66880298  596628.81297287\n",
      "   -3750.64706378]\n",
      "358594.1663812353\n"
     ]
    }
   ],
   "source": [
    "# linear regression \n",
    "\n",
    "reg=LinearRegression().fit(X_train,Y_train)\n",
    "print('score on training: {:.3f}'.format(reg.score(X_train,Y_train))) \n",
    "\n",
    "print('score on test: {:.3f}'.format(reg.score(X_test,Y_test))) \n",
    "print(reg.coef_) \n",
    "print(reg.intercept_)"
   ]
  },
  {
   "cell_type": "markdown",
   "metadata": {},
   "source": [
    "# Without Normalization of X, log(Y)"
   ]
  },
  {
   "cell_type": "code",
   "execution_count": 130,
   "metadata": {},
   "outputs": [],
   "source": [
    "# log (Y)\n",
    "eps = 0.00001\n",
    "Y_train , Y_test = np.log(Y_train + eps) , np.log(Y_test+eps) "
   ]
  },
  {
   "cell_type": "code",
   "execution_count": 98,
   "metadata": {},
   "outputs": [
    {
     "name": "stdout",
     "output_type": "stream",
     "text": [
      "score on training: 0.655\n",
      "score on test: 0.657\n",
      "[-2.80787515e-01 -2.82695270e-01  3.33232137e-03 -4.69066047e-05\n",
      "  7.86746297e-04 -2.73426874e-04  3.28368159e-04  1.80669029e-01\n",
      " -1.81424077e-02]\n",
      "-12.258214233658896\n"
     ]
    }
   ],
   "source": [
    "# linear regression\n",
    "\n",
    "reg=LinearRegression().fit(X_train,Y_train)\n",
    "print('score on training: {:.3f}'.format(reg.score(X_train,Y_train)))\n",
    "\n",
    "print('score on test: {:.3f}'.format(reg.score(X_test,Y_test))) \n",
    "print(reg.coef_)\n",
    "print(reg.intercept_) "
   ]
  },
  {
   "cell_type": "markdown",
   "metadata": {},
   "source": [
    "# with Normalization of X and log(Y)"
   ]
  },
  {
   "cell_type": "code",
   "execution_count": 119,
   "metadata": {},
   "outputs": [],
   "source": [
    "from sklearn.preprocessing import StandardScaler\n",
    "\n",
    "scaler=StandardScaler().fit(X_train)\n",
    "X_train = scaler.transform(X_train)\n",
    "X_test=scaler.transform(X_test)\n",
    "\n",
    "# log (Y)\n",
    "eps = 0.00001\n",
    "Y_train , Y_test = np.log(Y_train + eps) , np.log(Y_test+eps) "
   ]
  },
  {
   "cell_type": "code",
   "execution_count": null,
   "metadata": {},
   "outputs": [],
   "source": []
  },
  {
   "cell_type": "code",
   "execution_count": 121,
   "metadata": {},
   "outputs": [
    {
     "name": "stdout",
     "output_type": "stream",
     "text": [
      "score on training: 0.655\n",
      "score on test: 0.657\n",
      "[-0.56258451 -0.60856999  0.04129805 -0.0615387   0.21290525 -0.19855677\n",
      "  0.08200355  0.34105527 -0.02581427]\n",
      "12.075701853079412\n"
     ]
    }
   ],
   "source": [
    "# linear regression\n",
    "\n",
    "reg=LinearRegression().fit(X_train,Y_train)\n",
    "print('score on training: {:.3f}'.format(reg.score(X_train,Y_train)))\n",
    "\n",
    "print('score on test: {:.3f}'.format(reg.score(X_test,Y_test))) \n",
    "print(reg.coef_)\n",
    "print(reg.intercept_) \n",
    "\n",
    "base_train = reg.score(X_train,Y_train)\n",
    "base_test = reg.score(X_test,Y_test)"
   ]
  },
  {
   "cell_type": "markdown",
   "metadata": {},
   "source": [
    "# with normalization and log transformation First order Feature selection"
   ]
  },
  {
   "cell_type": "code",
   "execution_count": 139,
   "metadata": {},
   "outputs": [
    {
     "name": "stdout",
     "output_type": "stream",
     "text": [
      "Index(['latitude', 'housing_median_age', 'total_rooms', 'total_bedrooms',\n",
      "       'population', 'households', 'median_income', 'ocean_proximity'],\n",
      "      dtype='object')\n",
      "\n",
      " trained without longitude\n",
      "score on training: 0.553\n",
      "score on test: 0.554\n",
      "[-0.08251505  0.09116673 -0.18731415  0.15221735 -0.18587711  0.2716956\n",
      "  0.43109303  0.03022482]\n",
      "12.075701853079336\n",
      "Index(['longitude', 'housing_median_age', 'total_rooms', 'total_bedrooms',\n",
      "       'population', 'households', 'median_income', 'ocean_proximity'],\n",
      "      dtype='object')\n",
      "\n",
      " trained without latitude\n",
      "score on training: 0.535\n",
      "score on test: 0.535\n",
      "[ 0.01162283  0.09345306 -0.23164879  0.17771055 -0.1629701   0.27231713\n",
      "  0.45096492  0.01906947]\n",
      "12.075701853079337\n",
      "Index(['longitude', 'latitude', 'total_rooms', 'total_bedrooms', 'population',\n",
      "       'households', 'median_income', 'ocean_proximity'],\n",
      "      dtype='object')\n",
      "\n",
      " trained without housing_median_age\n",
      "score on training: 0.651\n",
      "score on test: 0.652\n",
      "[-0.59116664 -0.63595577 -0.07227436  0.20064358 -0.20254405  0.0962268\n",
      "  0.33587332 -0.02433002]\n",
      "12.075701853079416\n",
      "Index(['longitude', 'latitude', 'housing_median_age', 'total_bedrooms',\n",
      "       'population', 'households', 'median_income', 'ocean_proximity'],\n",
      "      dtype='object')\n",
      "\n",
      " trained without total_rooms\n",
      "score on training: 0.654\n",
      "score on test: 0.657\n",
      "[-0.57689255 -0.62629868  0.04342887  0.17164063 -0.20672758  0.07402919\n",
      "  0.32219468 -0.0275252 ]\n",
      "12.075701853079414\n",
      "Index(['longitude', 'latitude', 'housing_median_age', 'total_rooms',\n",
      "       'population', 'households', 'median_income', 'ocean_proximity'],\n",
      "      dtype='object')\n",
      "\n",
      " trained without total_bedrooms\n",
      "score on training: 0.650\n",
      "score on test: 0.655\n",
      "[-0.55423665 -0.6041348   0.03835528 -0.01164263 -0.21715821  0.26016993\n",
      "  0.32114309 -0.02470261]\n",
      "12.07570185307941\n",
      "Index(['longitude', 'latitude', 'housing_median_age', 'total_rooms',\n",
      "       'total_bedrooms', 'households', 'median_income', 'ocean_proximity'],\n",
      "      dtype='object')\n",
      "\n",
      " trained without population\n",
      "score on training: 0.629\n",
      "score on test: 0.626\n",
      "[-0.55338958 -0.58492766  0.04634293 -0.11362474  0.31097032 -0.13730662\n",
      "  0.36500361 -0.01152816]\n",
      "12.075701853079412\n",
      "Index(['longitude', 'latitude', 'housing_median_age', 'total_rooms',\n",
      "       'total_bedrooms', 'population', 'median_income', 'ocean_proximity'],\n",
      "      dtype='object')\n",
      "\n",
      " trained without households\n",
      "score on training: 0.654\n",
      "score on test: 0.656\n",
      "[-0.57203854 -0.61725959  0.04253485 -0.05804505  0.2774589  -0.18348424\n",
      "  0.34169527 -0.02606326]\n",
      "12.075701853079414\n",
      "Index(['longitude', 'latitude', 'housing_median_age', 'total_rooms',\n",
      "       'total_bedrooms', 'population', 'households', 'median_income'],\n",
      "      dtype='object')\n",
      "\n",
      " trained without ocean_proximity\n",
      "score on training: 0.653\n",
      "score on test: 0.655\n",
      "[-0.5415684  -0.59314899  0.04032686 -0.06717911  0.20987444 -0.19116864\n",
      "  0.08387721  0.34445021]\n",
      "12.075701853079408\n"
     ]
    }
   ],
   "source": [
    "eps=0.00001\n",
    "Y=df['median_house_value']\n",
    "Y=np.log(Y.to_numpy()+eps)\n",
    "\n",
    "res={}\n",
    "for i in df.columns:\n",
    "    if i != 'median_house_value':\n",
    "        X=df.loc[:,~df.columns.isin([i,'median_house_value'])]\n",
    "        print(X.columns)\n",
    "        X=X.to_numpy()\n",
    "        X_train,X_test,Y_train,Y_test = train_test_split(X,Y,test_size=0.25,random_state=1)\n",
    "        scaler=StandardScaler().fit(X_train)\n",
    "        X_train = scaler.transform(X_train)\n",
    "        X_test=scaler.transform(X_test)\n",
    "        # linear regression\n",
    "\n",
    "        reg=LinearRegression().fit(X_train,Y_train)\n",
    "        print('\\n trained without '+i)\n",
    "        print('score on training: {:.3f}'.format(reg.score(X_train,Y_train)))\n",
    "\n",
    "        print('score on test: {:.3f}'.format(reg.score(X_test,Y_test))) \n",
    "        print(reg.coef_)\n",
    "        print(reg.intercept_)\n",
    "        res[i] = base_test - reg.score(X_test,Y_test)\n"
   ]
  },
  {
   "cell_type": "code",
   "execution_count": 140,
   "metadata": {},
   "outputs": [
    {
     "data": {
      "text/plain": [
       "{'longitude': 0.1035900810649486,\n",
       " 'latitude': 0.1224995416917316,\n",
       " 'housing_median_age': 0.005187676875539227,\n",
       " 'total_rooms': 0.0006080758932788255,\n",
       " 'total_bedrooms': 0.0027581072994977696,\n",
       " 'population': 0.030923784196327797,\n",
       " 'households': 0.0015182231855587203,\n",
       " 'ocean_proximity': 0.0020562677773309224}"
      ]
     },
     "execution_count": 140,
     "metadata": {},
     "output_type": "execute_result"
    }
   ],
   "source": [
    "res"
   ]
  },
  {
   "cell_type": "code",
   "execution_count": 129,
   "metadata": {},
   "outputs": [
    {
     "data": {
      "text/plain": [
       "Index(['longitude', 'latitude', 'housing_median_age', 'total_rooms',\n",
       "       'total_bedrooms', 'population', 'households', 'median_income',\n",
       "       'ocean_proximity'],\n",
       "      dtype='object')"
      ]
     },
     "execution_count": 129,
     "metadata": {},
     "output_type": "execute_result"
    }
   ],
   "source": [
    "features"
   ]
  },
  {
   "cell_type": "markdown",
   "metadata": {},
   "source": [
    "# Post processing"
   ]
  },
  {
   "cell_type": "code",
   "execution_count": null,
   "metadata": {},
   "outputs": [],
   "source": [
    "# homoscadicity"
   ]
  }
 ],
 "metadata": {
  "anaconda-cloud": {},
  "kernelspec": {
   "display_name": "Python 3",
   "language": "python",
   "name": "python3"
  },
  "language_info": {
   "codemirror_mode": {
    "name": "ipython",
    "version": 3
   },
   "file_extension": ".py",
   "mimetype": "text/x-python",
   "name": "python",
   "nbconvert_exporter": "python",
   "pygments_lexer": "ipython3",
   "version": "3.7.7"
  }
 },
 "nbformat": 4,
 "nbformat_minor": 4
}
